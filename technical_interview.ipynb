{
  "nbformat": 4,
  "nbformat_minor": 0,
  "metadata": {
    "colab": {
      "provenance": [],
      "authorship_tag": "ABX9TyNbSEAs2vgDuUcCoRCkMccR",
      "include_colab_link": true
    },
    "kernelspec": {
      "name": "python3",
      "display_name": "Python 3"
    },
    "language_info": {
      "name": "python"
    }
  },
  "cells": [
    {
      "cell_type": "markdown",
      "metadata": {
        "id": "view-in-github",
        "colab_type": "text"
      },
      "source": [
        "<a href=\"https://colab.research.google.com/github/Banafshehkh/Interview_Preparation/blob/main/technical_interview.ipynb\" target=\"_parent\"><img src=\"https://colab.research.google.com/assets/colab-badge.svg\" alt=\"Open In Colab\"/></a>"
      ]
    },
    {
      "cell_type": "markdown",
      "source": [
        "1.\tWrite a Python function to calculate the factorial of a given number."
      ],
      "metadata": {
        "id": "GEL-sfwZ-R61"
      }
    },
    {
      "cell_type": "code",
      "execution_count": 14,
      "metadata": {
        "colab": {
          "base_uri": "https://localhost:8080/"
        },
        "id": "pUBCwArr6uo3",
        "outputId": "54ea1add-7ea5-4029-a45c-b7f19ed72d10"
      },
      "outputs": [
        {
          "output_type": "execute_result",
          "data": {
            "text/plain": [
              "120"
            ]
          },
          "metadata": {},
          "execution_count": 14
        }
      ],
      "source": [
        "def factorial(num):\n",
        "  result = 0\n",
        "  if num == 0:\n",
        "    return 1\n",
        "\n",
        "  else:\n",
        "    result = num * factorial(num-1)\n",
        "    return result\n",
        "\n",
        "factorial(5)"
      ]
    },
    {
      "cell_type": "markdown",
      "source": [
        "2.\tImplement a function in Python to check if a string is a palindrome."
      ],
      "metadata": {
        "id": "Lm3O3yu5-al-"
      }
    },
    {
      "cell_type": "code",
      "source": [
        "def palindrome(str):\n",
        "  if len(str) == 1 or str == str[::-1]:\n",
        "    return True\n",
        "  else:\n",
        "    return False\n",
        "\n",
        "str = \"hi\"\n",
        "palindrome(str)"
      ],
      "metadata": {
        "colab": {
          "base_uri": "https://localhost:8080/"
        },
        "id": "K-yhbvsc9jtI",
        "outputId": "129404cb-e55e-4889-a3b2-933b2b6e44eb"
      },
      "execution_count": 17,
      "outputs": [
        {
          "output_type": "execute_result",
          "data": {
            "text/plain": [
              "False"
            ]
          },
          "metadata": {},
          "execution_count": 17
        }
      ]
    },
    {
      "cell_type": "markdown",
      "source": [
        "3.\tWrite a Python function to find the sum of all elements in a list."
      ],
      "metadata": {
        "id": "coRyb37iAnCp"
      }
    },
    {
      "cell_type": "code",
      "source": [
        "\n",
        "\n",
        "def summation(lst):\n",
        "\n",
        "  sum = 0\n",
        "\n",
        "  for i in range(len(lst)):\n",
        "    sum += lst[i]\n",
        "\n",
        "  return sum\n",
        "\n",
        "summation([1, 2, 3])\n",
        ""
      ],
      "metadata": {
        "colab": {
          "base_uri": "https://localhost:8080/"
        },
        "id": "7EzVaTb-AeWe",
        "outputId": "4a80836f-cba6-4228-dc0a-6871d74cfa2e"
      },
      "execution_count": 35,
      "outputs": [
        {
          "output_type": "execute_result",
          "data": {
            "text/plain": [
              "6"
            ]
          },
          "metadata": {},
          "execution_count": 35
        }
      ]
    },
    {
      "cell_type": "markdown",
      "source": [
        "4.\tImplement a function in Python to reverse a given string."
      ],
      "metadata": {
        "id": "yXvVPt8sDTDV"
      }
    },
    {
      "cell_type": "code",
      "source": [
        "def reverse(str):\n",
        "  return str[::-1]\n",
        "\n",
        "reverse(\"hi\")\n"
      ],
      "metadata": {
        "colab": {
          "base_uri": "https://localhost:8080/",
          "height": 35
        },
        "id": "O-xEM8sDCoA_",
        "outputId": "bf05ba93-2036-4c06-d395-3df635da7603"
      },
      "execution_count": 36,
      "outputs": [
        {
          "output_type": "execute_result",
          "data": {
            "text/plain": [
              "'ih'"
            ],
            "application/vnd.google.colaboratory.intrinsic+json": {
              "type": "string"
            }
          },
          "metadata": {},
          "execution_count": 36
        }
      ]
    },
    {
      "cell_type": "markdown",
      "source": [
        "5.\tWrite a Python class that represents a binary tree and implement a method to traverse the tree in preorder."
      ],
      "metadata": {
        "id": "m9XjGYhnDjb3"
      }
    },
    {
      "cell_type": "code",
      "source": [
        "class TreeNode:\n",
        "    def __init__(self, value):\n",
        "        self.value = value\n",
        "        self.left = None\n",
        "        self.right = None\n",
        "\n",
        "class BinaryTree:\n",
        "    def __init__(self, root):\n",
        "        self.root = TreeNode(root)\n",
        "\n",
        "    def preorder_traversal(self, node):\n",
        "        if node is not None:\n",
        "            print(node.value, end=\" \")\n",
        "            self.preorder_traversal(node.left)\n",
        "            self.preorder_traversal(node.right)\n",
        "\n",
        "# Example usage\n",
        "tree = BinaryTree(1)\n",
        "tree.root.left = TreeNode(2)\n",
        "tree.root.right = TreeNode(3)\n",
        "tree.root.left.left = TreeNode(4)\n",
        "tree.root.left.right = TreeNode(5)\n",
        "\n",
        "print(\"Preorder traversal:\")\n",
        "tree.preorder_traversal(tree.root)\n"
      ],
      "metadata": {
        "colab": {
          "base_uri": "https://localhost:8080/"
        },
        "id": "-D6yWzgSF3K1",
        "outputId": "45b2a732-c99f-49d6-9cd2-a39462722b2c"
      },
      "execution_count": 41,
      "outputs": [
        {
          "output_type": "stream",
          "name": "stdout",
          "text": [
            "Preorder traversal:\n",
            "1 2 4 5 3 "
          ]
        }
      ]
    },
    {
      "cell_type": "markdown",
      "source": [
        "6.\tImplement a function in Python to sort a list of integers in ascending order using the bubble sort algorithm."
      ],
      "metadata": {
        "id": "aBZobqxFGwre"
      }
    },
    {
      "cell_type": "code",
      "source": [
        "def bubble_sort(lst):\n",
        "\n",
        "  for i in range(len(lst)):\n",
        "    for j in range(0, len(lst)-1):\n",
        "      if lst[j] > lst[j+1]:\n",
        "        lst[j], lst[j+1] = lst[j+1], lst[j]\n",
        "\n",
        "  return lst\n",
        "\n",
        "bubble_sort([8, 5 , 7])\n",
        "\n"
      ],
      "metadata": {
        "colab": {
          "base_uri": "https://localhost:8080/"
        },
        "id": "PWwhbfEJGGNg",
        "outputId": "bdae6d28-fb28-467b-a906-eb3c3b0ef288"
      },
      "execution_count": 46,
      "outputs": [
        {
          "output_type": "execute_result",
          "data": {
            "text/plain": [
              "[5, 7, 8]"
            ]
          },
          "metadata": {},
          "execution_count": 46
        }
      ]
    },
    {
      "cell_type": "markdown",
      "source": [
        "7.\tWrite a Python function to find the maximum subarray sum in a given list of integers."
      ],
      "metadata": {
        "id": "TnYgQg3zH9ri"
      }
    },
    {
      "cell_type": "code",
      "source": [
        "def max_sum(lst):\n",
        "\n",
        "  results = []\n",
        "  for i in range(len(lst)):\n",
        "    current_sum =0\n",
        "    for j in range(len(lst)):\n",
        "      current_sum += lst[j]\n",
        "      results.append(current_sum)\n",
        "\n",
        "  return max(results)\n",
        "\n",
        "\n",
        "max_sum([1, 4, 3, -1])"
      ],
      "metadata": {
        "colab": {
          "base_uri": "https://localhost:8080/"
        },
        "id": "xfXb9r9xHX6p",
        "outputId": "a51c5202-49fa-49ad-b791-f44f26824b55"
      },
      "execution_count": 69,
      "outputs": [
        {
          "output_type": "execute_result",
          "data": {
            "text/plain": [
              "8"
            ]
          },
          "metadata": {},
          "execution_count": 69
        }
      ]
    },
    {
      "cell_type": "markdown",
      "source": [
        "8.\tImplement a Python function to find the median of a list of numbers without using built-in functions."
      ],
      "metadata": {
        "id": "Cai3VSYAN3p6"
      }
    },
    {
      "cell_type": "code",
      "source": [
        "def find_median(lst):\n",
        "\n",
        "  lst.sort()\n",
        "\n",
        "  length = len(lst)\n",
        "  return lst[length//2]\n",
        "\n",
        "find_median([1, 2, 4, 9, 3,7])"
      ],
      "metadata": {
        "colab": {
          "base_uri": "https://localhost:8080/"
        },
        "id": "XXwadSZ3NpFU",
        "outputId": "4e620d4e-1a11-4cbd-ac49-89424bd62d20"
      },
      "execution_count": 82,
      "outputs": [
        {
          "output_type": "execute_result",
          "data": {
            "text/plain": [
              "4"
            ]
          },
          "metadata": {},
          "execution_count": 82
        }
      ]
    },
    {
      "cell_type": "code",
      "source": [],
      "metadata": {
        "id": "t1NEM0ixOts8"
      },
      "execution_count": null,
      "outputs": []
    }
  ]
}