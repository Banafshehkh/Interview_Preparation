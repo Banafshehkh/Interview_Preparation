{
  "nbformat": 4,
  "nbformat_minor": 0,
  "metadata": {
    "colab": {
      "provenance": [],
      "authorship_tag": "ABX9TyPFbV9qEB3g+61x+2NIoW89",
      "include_colab_link": true
    },
    "kernelspec": {
      "name": "python3",
      "display_name": "Python 3"
    },
    "language_info": {
      "name": "python"
    }
  },
  "cells": [
    {
      "cell_type": "markdown",
      "metadata": {
        "id": "view-in-github",
        "colab_type": "text"
      },
      "source": [
        "<a href=\"https://colab.research.google.com/github/Banafshehkh/Interview_Preparation/blob/main/technical_interview.ipynb\" target=\"_parent\"><img src=\"https://colab.research.google.com/assets/colab-badge.svg\" alt=\"Open In Colab\"/></a>"
      ]
    },
    {
      "cell_type": "markdown",
      "source": [
        "1.\tWrite a Python function to calculate the factorial of a given number."
      ],
      "metadata": {
        "id": "GEL-sfwZ-R61"
      }
    },
    {
      "cell_type": "code",
      "execution_count": null,
      "metadata": {
        "colab": {
          "base_uri": "https://localhost:8080/"
        },
        "id": "pUBCwArr6uo3",
        "outputId": "54ea1add-7ea5-4029-a45c-b7f19ed72d10"
      },
      "outputs": [
        {
          "output_type": "execute_result",
          "data": {
            "text/plain": [
              "120"
            ]
          },
          "metadata": {},
          "execution_count": 14
        }
      ],
      "source": [
        "def factorial(num):\n",
        "  result = 0\n",
        "  if num == 0:\n",
        "    return 1\n",
        "\n",
        "  else:\n",
        "    result = num * factorial(num-1)\n",
        "    return result\n",
        "\n",
        "factorial(5)"
      ]
    },
    {
      "cell_type": "markdown",
      "source": [
        "2.\tImplement a function in Python to check if a string is a palindrome."
      ],
      "metadata": {
        "id": "Lm3O3yu5-al-"
      }
    },
    {
      "cell_type": "code",
      "source": [
        "def palindrome(str):\n",
        "  if len(str) == 1 or str == str[::-1]:\n",
        "    return True\n",
        "  else:\n",
        "    return False\n",
        "\n",
        "str = \"hi\"\n",
        "palindrome(str)"
      ],
      "metadata": {
        "colab": {
          "base_uri": "https://localhost:8080/"
        },
        "id": "K-yhbvsc9jtI",
        "outputId": "129404cb-e55e-4889-a3b2-933b2b6e44eb"
      },
      "execution_count": null,
      "outputs": [
        {
          "output_type": "execute_result",
          "data": {
            "text/plain": [
              "False"
            ]
          },
          "metadata": {},
          "execution_count": 17
        }
      ]
    },
    {
      "cell_type": "markdown",
      "source": [
        "3.\tWrite a Python function to find the sum of all elements in a list."
      ],
      "metadata": {
        "id": "coRyb37iAnCp"
      }
    },
    {
      "cell_type": "code",
      "source": [
        "\n",
        "\n",
        "def summation(lst):\n",
        "\n",
        "  sum = 0\n",
        "\n",
        "  for i in range(len(lst)):\n",
        "    sum += lst[i]\n",
        "\n",
        "  return sum\n",
        "\n",
        "summation([1, 2, 3])\n"
      ],
      "metadata": {
        "colab": {
          "base_uri": "https://localhost:8080/"
        },
        "id": "7EzVaTb-AeWe",
        "outputId": "4a80836f-cba6-4228-dc0a-6871d74cfa2e"
      },
      "execution_count": null,
      "outputs": [
        {
          "output_type": "execute_result",
          "data": {
            "text/plain": [
              "6"
            ]
          },
          "metadata": {},
          "execution_count": 35
        }
      ]
    },
    {
      "cell_type": "markdown",
      "source": [
        "4.\tImplement a function in Python to reverse a given string."
      ],
      "metadata": {
        "id": "yXvVPt8sDTDV"
      }
    },
    {
      "cell_type": "code",
      "source": [
        "def reverse(str):\n",
        "  return str[::-1]\n",
        "\n",
        "reverse(\"hi\")\n"
      ],
      "metadata": {
        "colab": {
          "base_uri": "https://localhost:8080/",
          "height": 35
        },
        "id": "O-xEM8sDCoA_",
        "outputId": "bf05ba93-2036-4c06-d395-3df635da7603"
      },
      "execution_count": null,
      "outputs": [
        {
          "output_type": "execute_result",
          "data": {
            "text/plain": [
              "'ih'"
            ],
            "application/vnd.google.colaboratory.intrinsic+json": {
              "type": "string"
            }
          },
          "metadata": {},
          "execution_count": 36
        }
      ]
    },
    {
      "cell_type": "markdown",
      "source": [
        "5.\tWrite a Python class that represents a binary tree and implement a method to traverse the tree in preorder."
      ],
      "metadata": {
        "id": "m9XjGYhnDjb3"
      }
    },
    {
      "cell_type": "code",
      "source": [
        "class TreeNode:\n",
        "    def __init__(self, value):\n",
        "        self.value = value\n",
        "        self.left = None\n",
        "        self.right = None\n",
        "\n",
        "class BinaryTree:\n",
        "    def __init__(self, root):\n",
        "        self.root = TreeNode(root)\n",
        "\n",
        "    def preorder_traversal(self, node):\n",
        "        if node is not None:\n",
        "            print(node.value, end=\" \")\n",
        "            self.preorder_traversal(node.left)\n",
        "            self.preorder_traversal(node.right)\n",
        "\n",
        "# Example usage\n",
        "tree = BinaryTree(1)\n",
        "tree.root.left = TreeNode(2)\n",
        "tree.root.right = TreeNode(3)\n",
        "tree.root.left.left = TreeNode(4)\n",
        "tree.root.left.right = TreeNode(5)\n",
        "\n",
        "print(\"Preorder traversal:\")\n",
        "tree.preorder_traversal(tree.root)\n"
      ],
      "metadata": {
        "colab": {
          "base_uri": "https://localhost:8080/"
        },
        "id": "-D6yWzgSF3K1",
        "outputId": "45b2a732-c99f-49d6-9cd2-a39462722b2c"
      },
      "execution_count": null,
      "outputs": [
        {
          "output_type": "stream",
          "name": "stdout",
          "text": [
            "Preorder traversal:\n",
            "1 2 4 5 3 "
          ]
        }
      ]
    },
    {
      "cell_type": "markdown",
      "source": [
        "6.\tImplement a function in Python to sort a list of integers in ascending order using the bubble sort algorithm."
      ],
      "metadata": {
        "id": "aBZobqxFGwre"
      }
    },
    {
      "cell_type": "code",
      "source": [
        "def bubble_sort(lst):\n",
        "\n",
        "  for i in range(len(lst)):\n",
        "    for j in range(0, len(lst)-1):\n",
        "      if lst[j] > lst[j+1]:\n",
        "        lst[j], lst[j+1] = lst[j+1], lst[j]\n",
        "\n",
        "  return lst\n",
        "\n",
        "bubble_sort([8, 5 , 7])\n",
        "\n"
      ],
      "metadata": {
        "colab": {
          "base_uri": "https://localhost:8080/"
        },
        "id": "PWwhbfEJGGNg",
        "outputId": "bdae6d28-fb28-467b-a906-eb3c3b0ef288"
      },
      "execution_count": null,
      "outputs": [
        {
          "output_type": "execute_result",
          "data": {
            "text/plain": [
              "[5, 7, 8]"
            ]
          },
          "metadata": {},
          "execution_count": 46
        }
      ]
    },
    {
      "cell_type": "markdown",
      "source": [
        "7.\tWrite a Python function to find the maximum subarray sum in a given list of integers."
      ],
      "metadata": {
        "id": "TnYgQg3zH9ri"
      }
    },
    {
      "cell_type": "code",
      "source": [
        "def max_sum(lst):\n",
        "\n",
        "  results = []\n",
        "  for i in range(len(lst)):\n",
        "    current_sum =0\n",
        "    for j in range(len(lst)):\n",
        "      current_sum += lst[j]\n",
        "      results.append(current_sum)\n",
        "\n",
        "  return max(results)\n",
        "\n",
        "\n",
        "max_sum([1, 4, 3, -1])"
      ],
      "metadata": {
        "colab": {
          "base_uri": "https://localhost:8080/"
        },
        "id": "xfXb9r9xHX6p",
        "outputId": "a51c5202-49fa-49ad-b791-f44f26824b55"
      },
      "execution_count": null,
      "outputs": [
        {
          "output_type": "execute_result",
          "data": {
            "text/plain": [
              "8"
            ]
          },
          "metadata": {},
          "execution_count": 69
        }
      ]
    },
    {
      "cell_type": "markdown",
      "source": [
        "8.\tImplement a Python function to find the median of a list of numbers without using built-in functions."
      ],
      "metadata": {
        "id": "Cai3VSYAN3p6"
      }
    },
    {
      "cell_type": "code",
      "source": [
        "def find_median(lst):\n",
        "\n",
        "  lst.sort()\n",
        "\n",
        "  length = len(lst)\n",
        "  return lst[length//2]\n",
        "\n",
        "find_median([1, 2, 4, 9, 3,7])"
      ],
      "metadata": {
        "colab": {
          "base_uri": "https://localhost:8080/"
        },
        "id": "XXwadSZ3NpFU",
        "outputId": "4e620d4e-1a11-4cbd-ac49-89424bd62d20"
      },
      "execution_count": null,
      "outputs": [
        {
          "output_type": "execute_result",
          "data": {
            "text/plain": [
              "4"
            ]
          },
          "metadata": {},
          "execution_count": 82
        }
      ]
    },
    {
      "cell_type": "markdown",
      "source": [
        "9.\tWrite a Python class that represents a linked list and implement a method to reverse the list."
      ],
      "metadata": {
        "id": "_-THNQJXPr76"
      }
    },
    {
      "cell_type": "code",
      "source": [
        "class Node:\n",
        "    def __init__(self, data):\n",
        "        self.data = data\n",
        "        self.next = None\n",
        "\n",
        "class LinkedList:\n",
        "    def __init__(self):\n",
        "        self.head = None\n",
        "\n",
        "    def add_node(self, data):\n",
        "        new_node = Node(data)\n",
        "        if self.head is None:\n",
        "            self.head = new_node\n",
        "        else:\n",
        "            current = self.head\n",
        "            while current.next is not None:\n",
        "                current = current.next\n",
        "            current.next = new_node\n",
        "\n",
        "    def display(self):\n",
        "        current = self.head\n",
        "        while current:\n",
        "            print(current.data, end=\" \")\n",
        "            current = current.next\n",
        "        print()\n",
        "\n",
        "    def reverse(self):\n",
        "        prev = None\n",
        "        current = self.head\n",
        "        while current:\n",
        "            next_node = current.next\n",
        "            current.next = prev\n",
        "            prev = current\n",
        "            current = next_node\n",
        "        self.head = prev\n",
        "\n",
        "\n",
        "\n",
        "# Create a linked list\n",
        "linked_list = LinkedList()\n",
        "\n",
        "# Add nodes to the linked list\n",
        "linked_list.add_node(1)\n",
        "linked_list.add_node(2)\n",
        "linked_list.add_node(3)\n",
        "linked_list.add_node(4)\n",
        "\n",
        "# Display the original linked list\n",
        "print(\"Original linked list:\")\n",
        "linked_list.display()\n",
        "\n",
        "# Reverse the linked list\n",
        "linked_list.reverse()\n",
        "\n",
        "# Display the reversed linked list\n",
        "print(\"Reversed linked list:\")\n",
        "linked_list.display()\n"
      ],
      "metadata": {
        "colab": {
          "base_uri": "https://localhost:8080/"
        },
        "id": "t1NEM0ixOts8",
        "outputId": "8c533a94-f191-4557-b9cf-50df76793f17"
      },
      "execution_count": null,
      "outputs": [
        {
          "output_type": "stream",
          "name": "stdout",
          "text": [
            "Original linked list:\n",
            "1 2 3 4 \n",
            "Reversed linked list:\n",
            "4 3 2 1 \n"
          ]
        }
      ]
    },
    {
      "cell_type": "markdown",
      "source": [
        "10.\tImplement a function in Python to find the nth Fibonacci number."
      ],
      "metadata": {
        "id": "GCTkPMZlVMZC"
      }
    },
    {
      "cell_type": "code",
      "source": [
        "def fib(n):\n",
        "  if n < 0:\n",
        "    return False\n",
        "  elif n == 0 or n==1:\n",
        "    return 1\n",
        "  else:\n",
        "    return (fib(n-2) + fib(n-1))\n",
        "\n",
        "\n",
        "fib(3)"
      ],
      "metadata": {
        "colab": {
          "base_uri": "https://localhost:8080/"
        },
        "id": "bOXNdkbBU3so",
        "outputId": "ae4e6728-49e6-4342-c0bc-827c899d7ed7"
      },
      "execution_count": null,
      "outputs": [
        {
          "output_type": "execute_result",
          "data": {
            "text/plain": [
              "3"
            ]
          },
          "metadata": {},
          "execution_count": 96
        }
      ]
    },
    {
      "cell_type": "markdown",
      "source": [
        "11.\tWrite a Python function to count the frequency of each element in a given list."
      ],
      "metadata": {
        "id": "umaI4UXIWdQ9"
      }
    },
    {
      "cell_type": "code",
      "source": [
        "def frequency(lst):\n",
        "  d = {x:lst.count(x) for x in lst}\n",
        "\n",
        "  return d\n",
        "\n",
        "frequency([1, 2, 1, 2, 3, 4])"
      ],
      "metadata": {
        "colab": {
          "base_uri": "https://localhost:8080/"
        },
        "id": "xq3ULyp-VebM",
        "outputId": "5bcbba5c-30d3-448c-9f8b-4815bf499061"
      },
      "execution_count": null,
      "outputs": [
        {
          "output_type": "execute_result",
          "data": {
            "text/plain": [
              "{1: 2, 2: 2, 3: 1, 4: 1}"
            ]
          },
          "metadata": {},
          "execution_count": 98
        }
      ]
    },
    {
      "cell_type": "markdown",
      "source": [
        "12.\tImplement a function in Python to check if a given number is prime."
      ],
      "metadata": {
        "id": "oqzaQSviX2vd"
      }
    },
    {
      "cell_type": "code",
      "source": [
        "def isprime(num):\n",
        "  if num == 1:\n",
        "    return False\n",
        "  else:\n",
        "    for i in range(2, num):\n",
        "      if num%i != 0:\n",
        "        return True\n",
        "      else:\n",
        "        return False\n",
        "\n",
        "isprime(4)\n"
      ],
      "metadata": {
        "colab": {
          "base_uri": "https://localhost:8080/"
        },
        "id": "jSZG2UfQXlo_",
        "outputId": "bc737ed6-2296-434e-ba62-f7018fa36455"
      },
      "execution_count": null,
      "outputs": [
        {
          "output_type": "execute_result",
          "data": {
            "text/plain": [
              "False"
            ]
          },
          "metadata": {},
          "execution_count": 104
        }
      ]
    },
    {
      "cell_type": "markdown",
      "source": [
        "15.\tWrite a Python function to calculate the Euclidean distance between two points in a 2D space."
      ],
      "metadata": {
        "id": "8rseamj1ZEXO"
      }
    },
    {
      "cell_type": "code",
      "source": [
        "import math\n",
        "\n",
        "def euclidean_distance(x1, y1, x2, y2):\n",
        "    distance = math.sqrt((x2 - x1) ** 2 + (y2 - y1) ** 2)\n",
        "    return distance\n",
        "\n",
        "\n",
        "x1, y1 = 2, 3\n",
        "x2, y2 = 5, 1\n",
        "\n",
        "euclidean_distance(x1, y1, x2, y2)"
      ],
      "metadata": {
        "colab": {
          "base_uri": "https://localhost:8080/"
        },
        "id": "_KiEuyuKY7l9",
        "outputId": "c9498b16-b3c2-4589-d0d8-0394843c2b1b"
      },
      "execution_count": null,
      "outputs": [
        {
          "output_type": "execute_result",
          "data": {
            "text/plain": [
              "3.605551275463989"
            ]
          },
          "metadata": {},
          "execution_count": 105
        }
      ]
    },
    {
      "cell_type": "markdown",
      "source": [
        "16.\tImplement a function in Python to generate a random password of a given length."
      ],
      "metadata": {
        "id": "b8Kjx_ktZmiw"
      }
    },
    {
      "cell_type": "code",
      "source": [
        "import random\n",
        "import string\n",
        "\n",
        "def password(length):\n",
        "  characters = string.ascii_letters + string.punctuation + string.digits\n",
        "  password = ''.join(random.choice(characters) for _ in range(length))\n",
        "\n",
        "  return(password)\n",
        "\n",
        "\n",
        "password(3)"
      ],
      "metadata": {
        "colab": {
          "base_uri": "https://localhost:8080/",
          "height": 35
        },
        "id": "klAYnxR6fbjA",
        "outputId": "a49e7625-2a43-4414-ba77-08506c514d2e"
      },
      "execution_count": null,
      "outputs": [
        {
          "output_type": "execute_result",
          "data": {
            "text/plain": [
              "'#7k'"
            ],
            "application/vnd.google.colaboratory.intrinsic+json": {
              "type": "string"
            }
          },
          "metadata": {},
          "execution_count": 122
        }
      ]
    },
    {
      "cell_type": "markdown",
      "source": [
        "17.\tWrite a Python function to convert a decimal number to its binary representation.\n",
        "\n"
      ],
      "metadata": {
        "id": "kbrOhSGCjKHS"
      }
    },
    {
      "cell_type": "code",
      "source": [
        "def binaryToDecimal(val):\n",
        "    return int(val, 2)\n",
        "\n",
        "binaryToDecimal('100')"
      ],
      "metadata": {
        "colab": {
          "base_uri": "https://localhost:8080/"
        },
        "id": "5iW1rCYkieCI",
        "outputId": "c8d18d03-351e-40d6-f4e2-d84f0f74dc61"
      },
      "execution_count": null,
      "outputs": [
        {
          "output_type": "execute_result",
          "data": {
            "text/plain": [
              "4"
            ]
          },
          "metadata": {},
          "execution_count": 138
        }
      ]
    },
    {
      "cell_type": "code",
      "source": [
        "def decimalToBinary(val):\n",
        "    return \"{0:b}\".format(val)\n",
        "decimalToBinary(10)"
      ],
      "metadata": {
        "colab": {
          "base_uri": "https://localhost:8080/",
          "height": 35
        },
        "id": "I03tt0X3jq-f",
        "outputId": "b90b1a80-3c45-4888-d80e-5da4a3771577"
      },
      "execution_count": null,
      "outputs": [
        {
          "output_type": "execute_result",
          "data": {
            "text/plain": [
              "'1010'"
            ],
            "application/vnd.google.colaboratory.intrinsic+json": {
              "type": "string"
            }
          },
          "metadata": {},
          "execution_count": 144
        }
      ]
    },
    {
      "cell_type": "markdown",
      "source": [
        "18. Given an array nums of n integers where n > 1,  return an array output such that output[i] is equal to the product of all the elements of nums except nums[i]."
      ],
      "metadata": {
        "id": "s7EMWQ8VDeJE"
      }
    },
    {
      "cell_type": "code",
      "source": [
        "def product(nums, i):\n",
        "    output = 1\n",
        "\n",
        "    for j, item in enumerate(nums):\n",
        "        if j != i:\n",
        "            output *= item\n",
        "\n",
        "    return output\n"
      ],
      "metadata": {
        "id": "yJhUcfr8mmE9"
      },
      "execution_count": null,
      "outputs": []
    },
    {
      "cell_type": "code",
      "source": [
        "product([1,2,3], i = 1)"
      ],
      "metadata": {
        "colab": {
          "base_uri": "https://localhost:8080/"
        },
        "id": "py3jba2WEorN",
        "outputId": "b449568e-383c-4e03-adc5-25e1f199834c"
      },
      "execution_count": null,
      "outputs": [
        {
          "output_type": "execute_result",
          "data": {
            "text/plain": [
              "3"
            ]
          },
          "metadata": {},
          "execution_count": 28
        }
      ]
    },
    {
      "cell_type": "code",
      "source": [
        "from collections import defaultdict\n",
        "\n",
        "def min_window(s, t):\n",
        "    target_counts = defaultdict(int)\n",
        "    for char in t:\n",
        "        target_counts[char] += 1\n",
        "    print(target_counts)\n",
        "\n",
        "    window_counts = defaultdict(int)\n",
        "    required = len(target_counts)\n",
        "    formed = 0\n",
        "\n",
        "    window_start = 0\n",
        "    window_end = 0\n",
        "    min_window_start = 0\n",
        "    min_window_length = float('inf')\n",
        "\n",
        "    while window_end < len(s):\n",
        "        char = s[window_end]\n",
        "        window_counts[char] += 1\n",
        "        if window_counts[char] == target_counts[char]:\n",
        "            formed += 1\n",
        "\n",
        "        while formed == required:\n",
        "            if window_end - window_start + 1 < min_window_length:\n",
        "                min_window_start = window_start\n",
        "                min_window_length = window_end - window_start + 1\n",
        "\n",
        "            char = s[window_start]\n",
        "            window_counts[char] -= 1\n",
        "            if window_counts[char] < target_counts[char]:\n",
        "                formed -= 1\n",
        "\n",
        "            window_start += 1\n",
        "\n",
        "        window_end += 1\n",
        "\n",
        "    if min_window_length == float('inf'):\n",
        "        return \"\"\n",
        "    else:\n",
        "        return s[min_window_start:min_window_start + min_window_length]\n"
      ],
      "metadata": {
        "id": "gKJtdIbUEwcn"
      },
      "execution_count": null,
      "outputs": []
    },
    {
      "cell_type": "code",
      "source": [
        "S = \"ADOBECODEBANC\"\n",
        "T = \"ABC\"\n",
        "result = min_window(S, T)\n",
        "print(result)  # Output: \"BANC\"\n"
      ],
      "metadata": {
        "colab": {
          "base_uri": "https://localhost:8080/"
        },
        "id": "k0Op6Qaro2_n",
        "outputId": "1e75b6e3-7dad-4266-be98-da55f4e307f1"
      },
      "execution_count": null,
      "outputs": [
        {
          "output_type": "stream",
          "name": "stdout",
          "text": [
            "defaultdict(<class 'int'>, {'A': 1, 'B': 1, 'C': 1})\n",
            "BANC\n"
          ]
        }
      ]
    },
    {
      "cell_type": "code",
      "source": [],
      "metadata": {
        "id": "OXmD6UBmo8un"
      },
      "execution_count": null,
      "outputs": []
    }
  ]
}